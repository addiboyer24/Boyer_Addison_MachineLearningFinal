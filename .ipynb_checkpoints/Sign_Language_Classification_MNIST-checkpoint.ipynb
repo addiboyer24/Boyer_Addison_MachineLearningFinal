{
 "cells": [
  {
   "cell_type": "code",
   "execution_count": null,
   "metadata": {},
   "outputs": [],
   "source": [
    "import matplotlib.pyplot as plt\n",
    "import numpy as np\n",
    "\n",
    "# Update figure size\n",
    "plt.rcParams[\"figure.figsize\"] = (10,10)\n",
    "\n",
    "ims = [plt.imread('./american_sign_language.png'), plt.imread('./amer_sign2.png'), plt.imread('./amer_sign3.png')]\n",
    "plt.title(\"Sign Language Alphabet\")\n",
    "plt.imshow(ims[0])\n",
    "plt.xticks([])\n",
    "plt.yticks([])\n",
    "plt.show()"
   ]
  },
  {
   "cell_type": "code",
   "execution_count": 2,
   "metadata": {},
   "outputs": [
    {
     "name": "stdout",
     "output_type": "stream",
     "text": [
      "Number of training images: 27455\n",
      "Number of test images: 7172\n"
     ]
    }
   ],
   "source": [
    "def read_data(fname):\n",
    "    f = open(fname, 'r')\n",
    "    f.readline()\n",
    "    \n",
    "    x = []\n",
    "    y = []\n",
    "    \n",
    "    for line in f:\n",
    "        line = line.replace(\"\\n\", \"\").split(\",\")\n",
    "        label = int(line[0])\n",
    "        image = line[1:]\n",
    "        y.append(label)\n",
    "        x.append(np.array(image, dtype=np.float).reshape(28,28))\n",
    "    \n",
    "    \n",
    "    x = np.array(x)\n",
    "    x = x.reshape(x.shape[0], x.shape[1], x.shape[2], 1)\n",
    "    # Normalize\n",
    "    x /= 255.\n",
    "    x = np.swapaxes(x, 1, 3)\n",
    "    \n",
    "    return x, np.array(y)\n",
    "    \n",
    "\n",
    "x_train, y_train = read_data('sign_mnist_train.csv')\n",
    "x_test, y_test = read_data('sign_mnist_test.csv')\n",
    "print(\"Number of training images: %d\" % y_train.shape[0])\n",
    "print(\"Number of test images: %d\" % y_test.shape[0])"
   ]
  },
  {
   "cell_type": "code",
   "execution_count": 3,
   "metadata": {},
   "outputs": [
    {
     "name": "stdout",
     "output_type": "stream",
     "text": [
      "Labels to Letters: \n",
      "{0: 'A', 1: 'B', 2: 'C', 3: 'D', 4: 'E', 5: 'F', 6: 'G', 7: 'H', 8: 'I', 9: 'J', 10: 'K', 11: 'L', 12: 'M', 13: 'N', 14: 'O', 15: 'P', 16: 'Q', 17: 'R', 18: 'S', 19: 'T', 20: 'U', 21: 'V', 22: 'W', 23: 'X', 24: 'Y', 25: 'Z'}\n"
     ]
    }
   ],
   "source": [
    "def get_mapping_dictionary(labels):\n",
    "    mappings = {}\n",
    "    for x in range(max(labels) + 2):\n",
    "        mappings[x] = chr(ord('A') + int(x))\n",
    "    \n",
    "    \n",
    "    return mappings\n",
    "\n",
    "mappings = get_mapping_dictionary(y_train)\n",
    "print(\"Labels to Letters: \")\n",
    "print(mappings)"
   ]
  },
  {
   "cell_type": "code",
   "execution_count": 4,
   "metadata": {},
   "outputs": [
    {
     "name": "stdout",
     "output_type": "stream",
     "text": [
      "Some random samples with their labels: \n"
     ]
    },
    {
     "data": {
      "image/png": "[encoded data removed]",
      "text/plain": [
       "<Figure size 432x288 with 4 Axes>"
      ]
     },
     "metadata": {},
     "output_type": "display_data"
    }
   ],
   "source": [
    "print(\"Some random samples with their labels: \")\n",
    "fig, ax = plt.subplots(1,4)\n",
    "\n",
    "randomind = np.random.choice(len(x_train), 4)\n",
    "i = 0\n",
    "plt.xticks([])\n",
    "plt.yticks([])\n",
    "for ind in randomind:\n",
    "    ax[i].set_xticks([])\n",
    "    ax[i].set_yticks([])\n",
    "    ax[i].set_title(\"%d, %s\" % (y_train[ind], mappings[y_train[ind]]))\n",
    "    ax[i].imshow(x_train[ind].squeeze(), cmap='gray')\n",
    "    i += 1\n",
    "fig.show()"
   ]
  },
  {
   "cell_type": "code",
   "execution_count": 5,
   "metadata": {},
   "outputs": [],
   "source": [
    "import torch\n",
    "import torch.nn as nn\n",
    "import torch.nn.functional as F\n",
    "from torch.utils.data import TensorDataset\n",
    "from sklearn.metrics import confusion_matrix\n",
    "\n",
    "\n",
    "class Net(nn.Module):\n",
    "    \n",
    "    def __init__(self, N, n_input):\n",
    "        \n",
    "        super(Net, self).__init__()\n",
    "        \n",
    "        self.conv_layer = nn.Sequential(\n",
    "            # Conv Layer block 1\n",
    "            nn.Conv2d(in_channels=1, out_channels=32, kernel_size=3, padding=1),\n",
    "            nn.ReLU(inplace=True),\n",
    "            nn.Conv2d(in_channels=32, out_channels=64, kernel_size=3, padding=1),\n",
    "            nn.ReLU(inplace=True),\n",
    "            nn.MaxPool2d(kernel_size=2, stride=2), \n",
    "            \n",
    "            # Conv Layer block 2\n",
    "            nn.Conv2d(in_channels=64, out_channels=128, kernel_size=3, padding=1),\n",
    "            nn.ReLU(inplace=True),\n",
    "            nn.Conv2d(in_channels=128, out_channels=128, kernel_size=3, padding=1),\n",
    "            nn.ReLU(inplace=True),\n",
    "            nn.MaxPool2d(kernel_size=2, stride=2), \n",
    "            \n",
    "            # Conv Layer block 3\n",
    "            nn.Conv2d(in_channels=128, out_channels=256, kernel_size=3, padding=1),\n",
    "            nn.ReLU(inplace=True),\n",
    "            nn.Conv2d(in_channels=256, out_channels=256, kernel_size=3, padding=1),\n",
    "            nn.ReLU(inplace=True),\n",
    "            nn.MaxPool2d(kernel_size=2, stride=2),\n",
    "        )\n",
    "        \n",
    "        self.fc_layer = nn.Sequential(\n",
    "            nn.Dropout(p=0.1),\n",
    "            nn.Linear(2304, 1024),\n",
    "            nn.ReLU(inplace=True),\n",
    "            nn.Linear(1024, 512),\n",
    "            nn.ReLU(inplace=True),\n",
    "            nn.Dropout(p=0.1),\n",
    "            nn.Linear(512, N)\n",
    "        )\n",
    "        \n",
    "    def forward(self, x):\n",
    "            \n",
    "        x = self.conv_layer(x)\n",
    "            \n",
    "        x = x.view(x.size(0), -1)\n",
    "            \n",
    "        x = self.fc_layer(x)\n",
    "            \n",
    "        return x\n",
    "        \n",
    "    \n",
    "\n",
    "class SignLanguageClassifier(object):\n",
    "    \n",
    "    def __init__(self, x_train, x_test, y_train, y_test):\n",
    "        self.x_train = torch.from_numpy(x_train)\n",
    "        self.x_test = torch.from_numpy(x_test)\n",
    "        self.y_train = torch.from_numpy(y_train)\n",
    "        self.y_test = torch.from_numpy(y_test)\n",
    "        self.N = 25\n",
    "        self.n_input = x_train.shape[1]\n",
    "        self.model = self.get_model()\n",
    "        self.training_accs = None\n",
    "        self.testa_accs = None\n",
    "    \n",
    "    def get_model(self):\n",
    "        return Net(self.N, self.n_input)\n",
    "    \n",
    "    def train(self):\n",
    "        \n",
    "        training_data = TensorDataset(self.x_train, self.y_train)\n",
    "        test_data = TensorDataset(self.x_test, self.y_test)\n",
    "        \n",
    "        # Batch size\n",
    "        batch_size = 256\n",
    "        \n",
    "        train_loader = torch.utils.data.DataLoader(dataset=training_data, batch_size=batch_size, shuffle=True)\n",
    "        \n",
    "        batch_size = 256\n",
    "        \n",
    "        \n",
    "        test_loader = torch.utils.data.DataLoader(dataset=test_data, batch_size=batch_size, shuffle=False)\n",
    "        \n",
    "        # Loss function\n",
    "        criterion = torch.nn.CrossEntropyLoss()\n",
    "        \n",
    "        # Optimizer\n",
    "        optimizer = torch.optim.Adam(self.model.parameters(), lr=1e-3)\n",
    "        \n",
    "        epochs = 15\n",
    "        \n",
    "        training_accs = []\n",
    "        test_accs = []\n",
    "        \n",
    "        for epoch in range(epochs):\n",
    "            self.model.train()\n",
    "            for d,t in train_loader:\n",
    "                \n",
    "                # Zero out the optimizer\n",
    "                optimizer.zero_grad()\n",
    "                \n",
    "                # Make prediction based on the model\n",
    "                outputs = self.model(d.float())\n",
    "                \n",
    "                \n",
    "                # Compute the loss\n",
    "                loss = criterion(outputs, t)\n",
    "                \n",
    "                \n",
    "                # Compute the derivative with respect to params\n",
    "                loss.backward()\n",
    "                \n",
    "                # Update the parameters\n",
    "                optimizer.step()\n",
    "            \n",
    "            # Get the training set accuracy\n",
    "            total = 0\n",
    "            correct = 0\n",
    "            for d,t in train_loader:\n",
    "                outputs = self.model(d.float())\n",
    "                \n",
    "                _, predicted = torch.max(outputs.data, 1)\n",
    "                \n",
    "                total += t.size(0)\n",
    "                correct += (predicted == t).sum()\n",
    "                \n",
    "            training_accs.append(100.*correct / total)\n",
    "            \n",
    "            # Get test set accuracy\n",
    "            total = 0\n",
    "            correct = 0\n",
    "            \n",
    "            for d,t in test_loader:\n",
    "                outputs = self.model(d.float())\n",
    "                \n",
    "                _, predicted = torch.max(outputs.data, 1)\n",
    "                \n",
    "                total += t.size(0)\n",
    "                correct += (predicted == t).sum()\n",
    "            \n",
    "            test_accs.append(100.*correct / total)\n",
    "            \n",
    "            \n",
    "            print(\"Epoch: %d, Training Accuracy: %0.3f, Test Accuracy: %0.3f\" %(epoch+1, training_accs[-1], test_accs[-1]))\n",
    "        \n",
    "        self.model.eval()\n",
    "        \n",
    "        self.training_accs = training_accs\n",
    "        self.test_accs = test_accs\n",
    "    \n",
    "    def confusion_M(self):\n",
    "        y_pred_test = self.model(self.x_test.float()).detach().numpy()\n",
    "        y_pred_test = np.argmax(y_pred_test, axis=1) # Get classes from logits.\n",
    "        \n",
    "        return confusion_matrix(y_pred_test, self.y_test.detach().numpy())"
   ]
  },
  {
   "cell_type": "code",
   "execution_count": 6,
   "metadata": {},
   "outputs": [],
   "source": [
    "slc = SignLanguageClassifier(x_train, x_test, y_train, y_test)"
   ]
  },
  {
   "cell_type": "code",
   "execution_count": 7,
   "metadata": {
    "scrolled": false
   },
   "outputs": [
    {
     "name": "stdout",
     "output_type": "stream",
     "text": [
      "Epoch: 1, Training Accuracy: 31.153, Test Accuracy: 30.494\n",
      "Epoch: 2, Training Accuracy: 92.628, Test Accuracy: 84.314\n",
      "Epoch: 3, Training Accuracy: 99.392, Test Accuracy: 92.289\n",
      "Epoch: 4, Training Accuracy: 99.832, Test Accuracy: 93.084\n",
      "Epoch: 5, Training Accuracy: 98.933, Test Accuracy: 90.561\n",
      "Epoch: 6, Training Accuracy: 99.862, Test Accuracy: 94.395\n",
      "Epoch: 7, Training Accuracy: 99.796, Test Accuracy: 93.935\n",
      "Epoch: 8, Training Accuracy: 99.752, Test Accuracy: 94.060\n",
      "Epoch: 9, Training Accuracy: 99.985, Test Accuracy: 94.994\n",
      "Epoch: 10, Training Accuracy: 100.000, Test Accuracy: 95.901\n",
      "Epoch: 11, Training Accuracy: 100.000, Test Accuracy: 96.124\n",
      "Epoch: 12, Training Accuracy: 100.000, Test Accuracy: 95.873\n",
      "Epoch: 13, Training Accuracy: 100.000, Test Accuracy: 95.984\n",
      "Epoch: 14, Training Accuracy: 100.000, Test Accuracy: 95.929\n",
      "Epoch: 15, Training Accuracy: 99.982, Test Accuracy: 96.319\n"
     ]
    }
   ],
   "source": [
    "slc.train()"
   ]
  },
  {
   "cell_type": "code",
   "execution_count": 8,
   "metadata": {},
   "outputs": [
    {
     "data": {
      "image/png": "[encoded data removed]",
      "text/plain": [
       "<Figure size 432x288 with 1 Axes>"
      ]
     },
     "metadata": {},
     "output_type": "display_data"
    }
   ],
   "source": [
    "x = np.linspace(1, 15, 15)\n",
    "plt.title(\"Training vs Test Set Accuracy\")\n",
    "plt.plot(x, slc.training_accs, 'r-', label='training')\n",
    "plt.plot(x, slc.test_accs, 'g-', label='test')\n",
    "plt.legend(loc='lower right')\n",
    "plt.show()"
   ]
  },
  {
   "cell_type": "code",
   "execution_count": 9,
   "metadata": {},
   "outputs": [
    {
     "data": {
      "text/plain": [
       "array([[331,   0,   0,   0,   0,   0,   0,   0,   0,   0,   0,   0,  11,\n",
       "          0,   0,   0,   0,   0,   0,   0,   0,   0,   0,   0],\n",
       "       [  0, 432,   0,   0,   0,   0,   0,   0,   0,   0,   0,   0,   0,\n",
       "          0,   0,   0,   0,   0,   0,   0,   0,   0,   0,   0],\n",
       "       [  0,   0, 298,   0,   0,   0,   0,   2,   0,   0,   0,   0,   0,\n",
       "          0,   0,   0,   0,   0,   0,   0,   0,   0,   0,   0],\n",
       "       [  0,   0,   0, 245,   0,   0,   0,   0,   0,   0,   0,   0,   0,\n",
       "          0,   0,   0,   0,   0,   0,  11,   0,   0,   0,   0],\n",
       "       [  0,   0,   0,   0, 498,   0,   0,   0,   0,   0,   0,  17,   0,\n",
       "          0,   0,   0,   0,   7,   0,   0,   0,   0,   0,   0],\n",
       "       [  0,   0,   0,   0,   0, 247,   0,   0,   0,   0,   0,   0,   0,\n",
       "          0,   0,   0,   0,   0,   0,   0,   0,   0,   0,   0],\n",
       "       [  0,   0,   0,   0,   0,   0, 307,   0,   0,   0,   0,   0,   0,\n",
       "          0,   0,   0,   0,   0,   0,   0,   0,   0,   0,   0],\n",
       "       [  0,   0,   0,   0,   0,   0,   0, 430,   0,   0,   0,   0,   0,\n",
       "          0,   0,   0,   0,   0,   0,   0,   0,   0,   0,   0],\n",
       "       [  0,   0,   0,   0,   0,   0,   0,   0, 288,   0,   0,   0,   0,\n",
       "          0,   0,   0,   0,   0,   0,   0,   0,   0,   0,   0],\n",
       "       [  0,   0,   0,   0,   0,   0,   0,   0,   0, 331,   0,   0,   0,\n",
       "          0,   0,   0,   0,   0,   0,   1,   0,   0,   0,   0],\n",
       "       [  0,   0,   0,   0,   0,   0,   0,   0,   0,   0, 209,   0,   0,\n",
       "          0,   0,   0,   0,   0,   0,   0,   0,   0,   0,   0],\n",
       "       [  0,   0,   0,   0,   0,   0,   0,   4,   0,   0,   0, 356,  20,\n",
       "          0,   0,   3,   0,   3,   0,   0,   0,   0,   0,   0],\n",
       "       [  0,   0,   0,   0,   0,   0,   0,   0,   0,   0,   0,  21, 239,\n",
       "          0,   0,   0,   0,   0,   0,   0,   0,   0,   0,   0],\n",
       "       [  0,   0,  12,   0,   0,   0,   0,   0,   0,   0,   0,   0,   0,\n",
       "        246,   0,   0,   0,   0,   0,   0,   0,   0,   0,   0],\n",
       "       [  0,   0,   0,   0,   0,   0,  14,   0,   0,   0,   0,   0,   0,\n",
       "          0, 324,   0,   0,   0,   0,   0,   0,   0,   0,   0],\n",
       "       [  0,   0,   0,   0,   0,   0,   6,   0,   0,   0,   0,   0,   0,\n",
       "          0,  23, 161,   0,   0,   0,   0,   0,   0,   0,   0],\n",
       "       [  0,   0,   0,   0,   0,   0,   0,   0,   0,   0,   0,   0,   0,\n",
       "          0,   0,   0, 144,   0,   0,   0,   0,   0,   0,  39],\n",
       "       [  0,   0,   0,   0,   0,   0,   0,   0,   0,   0,   0,   0,   0,\n",
       "          0,   0,   0,   0, 236,   0,   0,   0,   0,   0,   0],\n",
       "       [  0,   0,   0,   0,   0,   0,  21,   0,   0,   0,   0,   0,   0,\n",
       "          0,   0,   0,   0,   0, 234,   0,   0,   0,   0,   0],\n",
       "       [  0,   0,   0,   0,   0,   0,   0,   0,   0,   0,   0,   0,  21,\n",
       "          0,   0,   0,   0,   0,   0, 254,   0,   0,   0,   0],\n",
       "       [  0,   0,   0,   0,   0,   0,   0,   0,   0,   0,   0,   0,   0,\n",
       "          0,   0,   0,   0,   0,   0,   0, 346,   0,   0,   0],\n",
       "       [  0,   0,   0,   0,   0,   0,   0,   0,   0,   0,   0,   0,   0,\n",
       "          0,   0,   0,   0,   0,   0,   0,   0, 206,   0,   0],\n",
       "       [  0,   0,   0,   0,   0,   0,   0,   0,   0,   0,   0,   0,   0,\n",
       "          0,   0,   0,   0,   0,  14,   0,   0,   0, 267,   0],\n",
       "       [  0,   0,   0,   0,   0,   0,   0,   0,   0,   0,   0,   0,   0,\n",
       "          0,   0,   0,   0,   0,   0,   0,   0,   0,   0, 293]])"
      ]
     },
     "execution_count": 9,
     "metadata": {},
     "output_type": "execute_result"
    }
   ],
   "source": [
    "slc.confusion_M()"
   ]
  },
  {
   "cell_type": "code",
   "execution_count": 10,
   "metadata": {},
   "outputs": [],
   "source": [
    "y_pred = slc.model(slc.x_test.float()).detach().numpy()"
   ]
  },
  {
   "cell_type": "code",
   "execution_count": 11,
   "metadata": {},
   "outputs": [],
   "source": [
    "y_pred_test = []\n",
    "for obs in y_pred:\n",
    "    y_pred_test.append(np.argmax(obs))\n",
    "\n",
    "y_pred_test = np.array(y_pred_test)"
   ]
  },
  {
   "cell_type": "code",
   "execution_count": 12,
   "metadata": {},
   "outputs": [
    {
     "name": "stdout",
     "output_type": "stream",
     "text": [
      "Test set accuracy: 96.514 Percent\n"
     ]
    }
   ],
   "source": [
    "correct = 0\n",
    "total = 0\n",
    "for i,j in zip(y_pred_test, slc.y_test.detach().numpy()):\n",
    "    if(i == j):\n",
    "        correct += 1\n",
    "    total += 1\n",
    "\n",
    "print('Test set accuracy: %0.3f Percent' % (correct / total * 100))"
   ]
  },
  {
   "cell_type": "code",
   "execution_count": 13,
   "metadata": {},
   "outputs": [],
   "source": [
    "# Save the model, instead of retraining every time.\n",
    "torch.save(slc.model.state_dict(), './pretrained.pt')"
   ]
  }
 ],
 "metadata": {
  "kernelspec": {
   "display_name": "Python 3",
   "language": "python",
   "name": "python3"
  },
  "language_info": {
   "codemirror_mode": {
    "name": "ipython",
    "version": 3
   },
   "file_extension": ".py",
   "mimetype": "text/x-python",
   "name": "python",
   "nbconvert_exporter": "python",
   "pygments_lexer": "ipython3",
   "version": "3.6.8"
  }
 },
 "nbformat": 4,
 "nbformat_minor": 2
}
